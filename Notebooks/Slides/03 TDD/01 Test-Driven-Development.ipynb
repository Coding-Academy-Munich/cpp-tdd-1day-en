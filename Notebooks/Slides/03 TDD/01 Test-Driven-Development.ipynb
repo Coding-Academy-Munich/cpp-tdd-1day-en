{
 "cells": [
  {
   "cell_type": "markdown",
   "id": "dc97dc7141af6553",
   "metadata": {
    "lang": "en",
    "lines_to_next_cell": 2,
    "slideshow": {
     "slide_type": "slide"
    },
    "tags": [
     "slide"
    ]
   },
   "source": [
    "\n",
    "<img src=\"data:image/png;base64,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\"\n",
    "     style=\"display:block;margin:auto;width:5%\"/>\n",
    "<br>\n",
    "\n",
    "<div style=\"text-align:center; font-size:200%;\">\n",
    "  <b>Test-Driven-Development</b>\n",
    "</div>\n",
    "<br/>\n",
    "<div style=\"text-align:center; font-size:120%;\">Dr. Matthias Hölzl</div>\n",
    "<br/>\n",
    "<div style=\"text-align:center;\">Coding-Academy Munich</div>\n",
    "<br/>\n",
    "<!-- 01 Test-Driven-Development.ipynb -->\n",
    "<!-- slides/module_410_unit_testing/topic_170_test_driven_development.cpp -->"
   ]
  },
  {
   "cell_type": "markdown",
   "id": "b1ada30f1676b44d",
   "metadata": {
    "lang": "en",
    "slideshow": {
     "slide_type": "subslide"
    },
    "tags": [
     "subslide"
    ]
   },
   "source": [
    "\n",
    "## Idea\n",
    "\n",
    "- Use tests to drive the design and feature development of the program\n",
    "- Each new test describes a feature increment of the program\n",
    "- (Good testable code is created as a by-product)"
   ]
  },
  {
   "cell_type": "markdown",
   "id": "e07edcd02f4f8ccd",
   "metadata": {
    "lang": "en",
    "slideshow": {
     "slide_type": "subslide"
    },
    "tags": [
     "subslide"
    ]
   },
   "source": [
    "\n",
    "## Problem\n",
    "\n",
    "How can tests drive the design of the program?"
   ]
  },
  {
   "cell_type": "markdown",
   "id": "f8f50cfe8b03df53",
   "metadata": {
    "lang": "en",
    "slideshow": {
     "slide_type": "subslide"
    },
    "tags": [
     "subslide"
    ]
   },
   "source": [
    "\n",
    "## Possible answers\n",
    "\n",
    "- Tests use the functionality and therefore highlight clumsy interfaces\n",
    "- Tests enable refactoring"
   ]
  },
  {
   "cell_type": "markdown",
   "id": "02a3236944898aed",
   "metadata": {
    "lang": "en",
    "slideshow": {
     "slide_type": "subslide"
    },
    "tags": [
     "subslide"
    ]
   },
   "source": [
    "\n",
    "## Refactoring\n",
    "\n",
    "- Improve the code structure without changing the behavior\n",
    "  - Proceed in small steps\n",
    "  - After each step, the code is executable again\n",
    "- Objectives:\n",
    "  - Improve the code\n",
    "  - Improve the design"
   ]
  },
  {
   "cell_type": "markdown",
   "id": "4f430fda9dd2df38",
   "metadata": {
    "lang": "en",
    "slideshow": {
     "slide_type": "subslide"
    },
    "tags": [
     "subslide"
    ]
   },
   "source": [
    "\n",
    "## Refactoring and Tests\n",
    "\n",
    "- Refactoring improves the design of the program in small steps\n",
    "- The correctness of these steps is verified by tests"
   ]
  },
  {
   "cell_type": "markdown",
   "id": "d109798ae265f166",
   "metadata": {
    "lang": "en",
    "slideshow": {
     "slide_type": "subslide"
    },
    "tags": [
     "subslide"
    ]
   },
   "source": [
    "\n",
    "## So what???\n",
    "\n",
    "<img src=\"img/velocity-tests-03.png\"\n",
    "     style=\"display:block;margin:auto;width:70%\"/>"
   ]
  },
  {
   "cell_type": "markdown",
   "id": "55a00866dbe7f87a",
   "metadata": {
    "lang": "en",
    "slideshow": {
     "slide_type": "subslide"
    },
    "tags": [
     "subslide"
    ]
   },
   "source": [
    "\n",
    "## Test-Driven Development\n",
    "\n",
    "- The goal of TDD is not primarily to achieve high test coverage\n",
    "- The goal of TDD is to discover a good design through testing\n",
    "  - When writing the tests, one tries to design the interfaces of classes and\n",
    "    functions in such a way that it is easy to use\n",
    "  - Because all essential parts of the program are protected by tests,\n",
    "    one can permanently adapt the design to the current feature set through\n",
    "    refactoring"
   ]
  },
  {
   "cell_type": "markdown",
   "id": "3265556ad231755f",
   "metadata": {
    "lang": "en",
    "slideshow": {
     "slide_type": "subslide"
    },
    "tags": [
     "subslide"
    ]
   },
   "source": [
    "\n",
    "## The TDD Cycle\n",
    "- Write a (minimal) test\n",
    "  - The test only tests one new (partial) feature: **Baby Steps**\n",
    "  - This test fails\n",
    "- Implement the minimal functionality to get the test to work\n",
    "  - You don't have to pay attention to clean code or good design\n",
    "  - But: **Solve Simply**\n",
    "- Improve the code\n",
    "  - Remove the dirty constructs introduced in the previous step\n",
    "  - Generalize the implementation if there is too much repetition\n",
    "  - **This step is not optional!!!**"
   ]
  },
  {
   "cell_type": "markdown",
   "id": "e787f1a607d534f3",
   "metadata": {
    "lang": "en",
    "slideshow": {
     "slide_type": "subslide"
    },
    "tags": [
     "subslide"
    ]
   },
   "source": [
    "\n",
    "## The TDD cycle\n",
    "\n",
    "- <span style=\"color: red\"><b>Red (failing test)</b></span>\n",
    "- <span style=\"color: green\"><b>Green (all tests are green again)</b></span>\n",
    "- <span style=\"color: blue\"><b>Clean/Refactor (the code is clean again)</b></span>"
   ]
  },
  {
   "cell_type": "markdown",
   "id": "e2b2525e77f2dae4",
   "metadata": {
    "lang": "en",
    "slideshow": {
     "slide_type": "subslide"
    },
    "tags": [
     "subslide"
    ]
   },
   "source": [
    "\n",
    "## Baby steps\n",
    "\n",
    "- The system does not spend hours or days in a state in which it is not buildable,\n",
    "  testable or executable\n",
    "- This allows you to quickly get feedback from the code with every change\n",
    "- Frequent merging and CI becomes possible"
   ]
  },
  {
   "cell_type": "markdown",
   "id": "cbad39eb94ea99fe",
   "metadata": {
    "lang": "en",
    "slideshow": {
     "slide_type": "subslide"
    },
    "tags": [
     "subslide"
    ]
   },
   "source": [
    "\n",
    "## Why Solve Simply?\n",
    "\n",
    "- A flexible, generic solution often increases the complexity of the system\n",
    "- It is only worthwhile if the flexibility is actually needed\n",
    "- Developers usually have a hard time predicting where flexibility/extensibility is\n",
    "  needed\n",
    "- A flexible, generic solution is often much more difficult to implement than\n",
    "  a simple solution for a more specific use case\n",
    "- The most obvious flexible, generic solution is often not the cleanest and\n",
    "  most maintainable code"
   ]
  },
  {
   "cell_type": "markdown",
   "id": "b4543a357c35b277",
   "metadata": {
    "lang": "en",
    "slideshow": {
     "slide_type": "subslide"
    },
    "tags": [
     "subslide"
    ]
   },
   "source": [
    "\n",
    "## Assumptions of Solve Simply\n",
    "- It is possible to refactor code into a clean, maintainable state without changing\n",
    "  functionality\n",
    "- It is possible to extend code iteratively and make it more flexible when needed\n",
    "- It is easier to carry out the refactoring and iteration steps than to develop\n",
    "  the final solution right away\n",
    "- These assumptions are only fulfilled if a sufficient number of good unit tests\n",
    "  are available"
   ]
  },
  {
   "cell_type": "markdown",
   "id": "2d5eb9331b779319",
   "metadata": {
    "lang": "en",
    "slideshow": {
     "slide_type": "subslide"
    },
    "tags": [
     "subslide"
    ]
   },
   "source": [
    "\n",
    "## Even better: TDD + preparation step\n",
    "\n",
    "- Refactor the code so that the change becomes easy\n",
    "  - This is often not that easy...\n",
    "  - If during the refactoring it becomes clear that tests are missing, they are added\n",
    "- Do the easy change with the TDD cycle\n",
    "- Repeat these steps over and over again"
   ]
  },
  {
   "cell_type": "markdown",
   "id": "fa9a38ca4c6861fe",
   "metadata": {
    "lang": "en",
    "slideshow": {
     "slide_type": "subslide"
    },
    "tags": [
     "subslide"
    ]
   },
   "source": [
    "\n",
    "## Guided Kata: Mars Rover (or Grid World)\n",
    "\n",
    "- An exercise in TDD that shows how tests can drive the design\n",
    "- The important thing is the procedure, not just the final solution\n",
    "- Goal: Learn to work incrementally and iteratively!"
   ]
  },
  {
   "cell_type": "markdown",
   "id": "b547a89e208bf484",
   "metadata": {
    "lang": "en",
    "slideshow": {
     "slide_type": "subslide"
    },
    "tags": [
     "subslide"
    ]
   },
   "source": [
    "\n",
    "## Guided Kata: Mars Rover\n",
    "\n",
    "We will program a rover that can navigate a grid.\n",
    "- The rover has\n",
    "  - a position `(x, y)` and\n",
    "  - a direction (North, East, South, or West).\n",
    "- It can receive a sequence of commands:\n",
    "  - `L` (turn left 90 degrees),\n",
    "  - `R` (turn right 90 degrees), and\n",
    "  - `M` (move forward one grid point)."
   ]
  },
  {
   "cell_type": "markdown",
   "id": "4106c3bf11e02e20",
   "metadata": {
    "lang": "en",
    "slideshow": {
     "slide_type": "subslide"
    },
    "tags": [
     "subslide",
     "alt"
    ]
   },
   "source": [
    "\n",
    "### Step-by-step TDD Flow\n",
    "\n",
    "This flow shows how each new test forces a change or addition to the design."
   ]
  },
  {
   "cell_type": "markdown",
   "id": "c701b5cbf2d6e57c",
   "metadata": {
    "lang": "en",
    "slideshow": {
     "slide_type": "subslide"
    },
    "tags": [
     "subslide",
     "alt"
    ]
   },
   "source": [
    "\n",
    "### Cycle 1: Creating the Rover\n",
    "\n",
    "#### RED:\n",
    "- Write a test that asserts a newly created `Rover` object is at position\n",
    "  `{0, 0}` and facing `N` (North).\n",
    "- This test will fail because the `Rover` class doesn't exist yet.\n",
    "- When writing this test we have to think about data types for positions and\n",
    "  commands.\n",
    "\n",
    "```cpp\n",
    "Rover rover();\n",
    "REQUIRE(rover.getPosition() == Point{0, 0});\n",
    "REQUIRE(rover.getDirection() == Direction::N);\n",
    "```\n",
    "\n",
    "#### GREEN:\n",
    "- Create the required data types for position (`Point`) and direction\n",
    "  (`Direction`).\n",
    "- Create a `Rover` class with a constructor and member variables for its\n",
    "  position and direction to make the test pass.\n",
    "\n",
    "#### REFACTOR:\n",
    "- The code is simple, so maybe just clean up naming or formatting.\n",
    "- This cycle drives the creation of the Rover class and establishes its\n",
    "  initial state."
   ]
  },
  {
   "cell_type": "markdown",
   "id": "6670e219cc4215c9",
   "metadata": {
    "lang": "en",
    "slideshow": {
     "slide_type": "subslide"
    },
    "tags": [
     "subslide",
     "alt"
    ]
   },
   "source": [
    "\n",
    "### Cycle 2: Adding Behavior - Turning\n",
    "\n",
    "#### RED:\n",
    "- Write a test to check that sending the command `R` to a rover facing `N`\n",
    "  makes it face `E` (East).\n",
    "- It will fail because there is no command execution method yet.\n",
    "\n",
    "```cpp\n",
    "Rover rover();\n",
    "rover.executeCommands(\"R\");\n",
    "REQUIRE(rover.getDirection() == Direction::E);\n",
    "```\n",
    "\n",
    "#### GREEN:\n",
    "- Implement an `executeCommands(const std::string&)` method.\n",
    "- Add simple if/else or switch logic to handle the `R` command and update the\n",
    "  rover's direction.\n",
    "- Add another test for turning left (`L`) and implement the logic for it.\n",
    "\n",
    "#### REFACTOR:\n",
    "- The `if`/`else` chain for managing directions (`N` -> `E`, `E` -> `S`,\n",
    "  etc.) is getting clunky.\n",
    "- This is a great opportunity to refactor the direction from a char to an\n",
    "  enum and extract the turning logic into private methods\n",
    "  (`turnLeft`/`turnRight`)."
   ]
  },
  {
   "cell_type": "markdown",
   "id": "47ad3203c0b11eba",
   "metadata": {
    "lang": "en",
    "slideshow": {
     "slide_type": "subslide"
    },
    "tags": [
     "subslide",
     "alt"
    ]
   },
   "source": [
    "\n",
    "### Cycle 3: Adding Behavior - Moving\n",
    "\n",
    "#### RED:\n",
    "- Write a test to check that sending `M` to a rover at `{10, 10}` facing `N`\n",
    "  moves it to `{10, 11}`.\n",
    "- It will fail.\n",
    "\n",
    "```cpp\n",
    "Rover rover({10, 10}, Direction::N);\n",
    "rover.executeCommands(\"M\");\n",
    "REQUIRE(rover.getPosition() == Point{10, 11});\n",
    "```\n",
    "\n",
    "#### GREEN:\n",
    "- Add logic to the `executeCommands` method to change the rover's position\n",
    "  based on its current direction.\n",
    "\n",
    "#### REFACTOR:\n",
    "- The movement logic could be a long switch statement. We can extract it into\n",
    "  a private `move()` method to keep the `executeCommands` method clean."
   ]
  },
  {
   "cell_type": "markdown",
   "id": "007a1b8e479087c5",
   "metadata": {
    "lang": "en",
    "slideshow": {
     "slide_type": "subslide"
    },
    "tags": [
     "subslide",
     "alt"
    ]
   },
   "source": [
    "\n",
    "### Cycle 4: Driving Design with a New Requirement\n",
    "\n",
    "This is the key step that shows TDD driving high-level design!\n",
    "\n",
    "#### RED:\n",
    "- Introduce the concept of \"wrapping.\"\n",
    "- Write a test asserting that a rover at the edge of a 10x10 grid (e.g., at\n",
    "  `{5, 9}`) facing `N` moves to `{5, 0}`.\n",
    "- This test will fail because the Rover has no concept of a grid; it will\n",
    "  just move to `{5, 10}`.\n",
    "\n",
    "```cpp\n",
    "Rover rover({10, 10}, {5, 9}, Direction::N);\n",
    "rover.executeCommands(\"M\");\n",
    "REQUIRE(rover.getPosition() == Point{5, 0});\n",
    "```"
   ]
  },
  {
   "cell_type": "markdown",
   "id": "2e6d6820e343d9fc",
   "metadata": {
    "lang": "en",
    "slideshow": {
     "slide_type": "subslide"
    },
    "tags": [
     "subslide",
     "alt"
    ]
   },
   "source": [
    "\n",
    "### Cycle 4 (Cont.): The \"Aha!\" Moment\n",
    "\n",
    "#### GREEN:\n",
    "- To make this pass, you must introduce the grid's dimensions into the moving\n",
    "  logic. The simplest solution is to pass the grid size into the `move()`\n",
    "  method or the `Rover` constructor. But this feels messy.\n",
    "\n",
    "#### REFACTOR:\n",
    "- The test has revealed a flaw in the design: The Rover knows too much about\n",
    "  the world's rules.\n",
    "- This drives a significant design improvement: Create a `Grid` class.\n",
    "- The Rover is placed on the `Grid`, and the `Grid` is now responsible for\n",
    "    calculating the next position.\n",
    "- The Rover's `move()` method now asks the `Grid` where it should go next.\n",
    "- The result is a much better, more decoupled design, driven directly by the\n",
    "    need to make a test pass."
   ]
  },
  {
   "cell_type": "markdown",
   "id": "03275e736b793c16",
   "metadata": {
    "lang": "en",
    "slideshow": {
     "slide_type": "subslide"
    },
    "tags": [
     "subslide"
    ]
   },
   "source": [
    "\n",
    "## Final Result: Separated Responsibilities\n",
    "\n",
    "#### Rover\n",
    "- Knows its own position and direction.\n",
    "- Knows how to turn left or right.\n",
    "- Knows how to interpret commands (`L`, `R`, `M`).\n",
    "- Delegates the movement calculation to the `Grid`.\n",
    "\n",
    "```cpp\n",
    "Inside Rover::move()\n",
    "position = grid->calculateNextPosition(position, direction);\n",
    "```\n",
    "\n",
    "#### Grid\n",
    "- Knows the world's dimensions (width and height).\n",
    "- Knows how to calculate the next position given a current position and\n",
    "  direction.\n",
    "- Encapsulates the \"wrapping\" logic."
   ]
  },
  {
   "cell_type": "markdown",
   "id": "f14c7f797dabecee",
   "metadata": {
    "lang": "en",
    "slideshow": {
     "slide_type": "subslide"
    },
    "tags": [
     "subslide"
    ]
   },
   "source": [
    "\n",
    "## Kata: FizzBuzz\n",
    "\n",
    "Write a function\n",
    "```cpp\n",
    "void fizz_buzz(int n);\n",
    "```\n",
    "that outputs the numbers from 1 to `n` on the screen but\n",
    "\n",
    "- replaces any number divisible by 3 with `fizz`\n",
    "- replaces every number divisible by 5 with `buzz`\n",
    "- replaces every number divisible by 3 and 5 with `FizzBuzz`\n",
    "\n",
    "For example, `fizz_buzz(16)` should produce the following output:\n",
    "\n",
    "```plaintext\n",
    "1\n",
    "2\n",
    "Fizz\n",
    "4\n",
    "Buzz\n",
    "Fizz\n",
    "7\n",
    "8\n",
    "Fizz\n",
    "Buzz\n",
    "11\n",
    "Fizz\n",
    "13\n",
    "14\n",
    "FizzBuzz\n",
    "16\n",
    "```"
   ]
  }
 ],
 "metadata": {
  "kernelspec": {
   "display_name": "C++17",
   "language": "C++17",
   "name": "xcpp17"
  },
  "language_info": {
   "codemirror_mode": "text/x-c++src",
   "file_extension": ".cpp",
   "mimetype": "text/x-c++src",
   "name": "c++",
   "version": "17"
  }
 },
 "nbformat": 4,
 "nbformat_minor": 5
}
